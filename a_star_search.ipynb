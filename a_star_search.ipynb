{
 "cells": [
  {
   "attachments": {},
   "cell_type": "markdown",
   "metadata": {},
   "source": [
    "# A STAR SEARCH"
   ]
  },
  {
   "attachments": {},
   "cell_type": "markdown",
   "metadata": {},
   "source": [
    "## Question"
   ]
  },
  {
   "attachments": {},
   "cell_type": "markdown",
   "metadata": {},
   "source": [
    "```\n",
    "                        A➏\n",
    "    ____________________|________________________\n",
    "    |➋                ➊|                       |➌\n",
    "    B➌                 ➍C                      D➎\n",
    "____|____           ____|________           ____|____\n",
    "|➎    ➍|           |➏        ➌|           |➋    ➍|\n",
    "E➌    ➊F           G➏        ➋H           I➎    ➍J\n",
    "|   ____|____   ____|____   ____|____   ____|\n",
    "|➊ |➋  |➊  |➍ |➊    ➊|   |➋    ➍|   |➊\n",
    "|___K➋  L ➍M___|       |___N➊    ➍O___|\n",
    "```"
   ]
  },
  {
   "attachments": {},
   "cell_type": "markdown",
   "metadata": {},
   "source": [
    "## Script"
   ]
  },
  {
   "attachments": {},
   "cell_type": "markdown",
   "metadata": {},
   "source": [
    "### Using"
   ]
  },
  {
   "cell_type": "code",
   "execution_count": 22,
   "metadata": {},
   "outputs": [],
   "source": [
    "from collections import defaultdict\n",
    "from queue import PriorityQueue"
   ]
  },
  {
   "attachments": {},
   "cell_type": "markdown",
   "metadata": {},
   "source": [
    "### Contract Fields"
   ]
  },
  {
   "cell_type": "code",
   "execution_count": 23,
   "metadata": {},
   "outputs": [],
   "source": [
    "data = defaultdict(list)\n",
    "data['A'] = ['B', 2, 'C', 1, 'D', 3, 6]\n",
    "data['B'] = ['E', 5, 'F', 4, 3]\n",
    "data['C'] = ['G', 6, 'H', 3, 4]\n",
    "data['D'] = ['I', 2, 'J', 4, 5]\n",
    "data['E'] = ['K', 1, 3]\n",
    "data['F'] = ['K', 2, 'L', 1, 'M', 4, 1]\n",
    "data['G'] = ['M', 1, 'N', 1, 6]\n",
    "data['H'] = ['N', 2, 'O', 4, 2]\n",
    "data['I'] = ['O', 1, 5]\n",
    "data['J'] = [4]\n",
    "data['K'] = [2]\n",
    "data['L'] = [0]\n",
    "data['M'] = [4]\n",
    "data['N'] = [1]\n",
    "data['O'] = [4]"
   ]
  },
  {
   "cell_type": "code",
   "execution_count": 24,
   "metadata": {},
   "outputs": [],
   "source": [
    "class Node:\n",
    "    # Initialization\n",
    "    def __init__(self, name, p=None, g=0, h=0):\n",
    "        self.name = name\n",
    "        self.p = p\n",
    "        self.g = g\n",
    "        self.h = h\n",
    "\n",
    "    # Less than\n",
    "    def __lt__(self, other):\n",
    "        if other == None:\n",
    "            return False\n",
    "        return self.g + self.h < other.g + other.h\n",
    "\n",
    "    # Equal\n",
    "    def __eq__(self, other):\n",
    "        if other == None:\n",
    "            return False\n",
    "        return self.name == other.name\n",
    "\n",
    "    # Display\n",
    "    def display(self):\n",
    "        print(f'{self.name}-{self.g}-{self.h}')"
   ]
  },
  {
   "attachments": {},
   "cell_type": "markdown",
   "metadata": {},
   "source": [
    "### Contract Methods"
   ]
  },
  {
   "cell_type": "code",
   "execution_count": 25,
   "metadata": {},
   "outputs": [],
   "source": [
    "# Check in priority\n",
    "def checkin_priority(temp, c):\n",
    "    if temp == None:\n",
    "        return False\n",
    "    return (temp in c.queue)"
   ]
  },
  {
   "cell_type": "code",
   "execution_count": 26,
   "metadata": {},
   "outputs": [],
   "source": [
    "# Get path\n",
    "def get_path(O, distance):\n",
    "    O.display()\n",
    "    distance += O.g + O.h\n",
    "    if O.p != None:\n",
    "        get_path(O.p, distance)\n",
    "    else:\n",
    "        print(f'Distance: {distance}')\n",
    "        return"
   ]
  },
  {
   "cell_type": "code",
   "execution_count": 27,
   "metadata": {},
   "outputs": [],
   "source": [
    "# Best first search\n",
    "def ass(S=Node('A'), G=Node('B')):\n",
    "    count = 0\n",
    "    Open = PriorityQueue()\n",
    "    Close = PriorityQueue()\n",
    "    S.h = data[S.name][-1]\n",
    "    Open.put(S)\n",
    "    while True:\n",
    "        count += 1\n",
    "        # check if Open is empty\n",
    "        if Open.empty():\n",
    "            print('Search failed!')\n",
    "            return\n",
    "        O = Open.get()\n",
    "        Close.put(O)\n",
    "        print(f'Scan {count}: {O.name}-{O.g}-{O.h}')\n",
    "        # check if O is destination point\n",
    "        if O.__eq__(G):\n",
    "            print('Search success!')\n",
    "            get_path(O, 0)\n",
    "            return\n",
    "        i = 0\n",
    "        # find all subpoints of O that are not in Open and Close\n",
    "        while i < len(data[O.name]) - 1:\n",
    "            name = data[O.name][i]\n",
    "            temp = Node(name=name, g=O.g + data[O.name][i + 1], h=data[name][-1])\n",
    "            temp.p = O\n",
    "            if not (checkin_priority(temp, Open) and checkin_priority(temp, Close)):\n",
    "                Open.put(temp)\n",
    "            i += 2"
   ]
  },
  {
   "cell_type": "code",
   "execution_count": 28,
   "metadata": {},
   "outputs": [
    {
     "name": "stdout",
     "output_type": "stream",
     "text": [
      "Scan 1: A-0-6\n",
      "Scan 2: B-2-3\n",
      "Scan 3: C-1-4\n",
      "Scan 4: H-4-2\n",
      "Scan 5: F-6-1\n",
      "Scan 6: N-6-1\n",
      "Scan 7: L-7-0\n",
      "Scan 8: D-3-5\n",
      "Scan 9: E-7-3\n",
      "Scan 10: K-8-2\n",
      "Scan 11: I-5-5\n",
      "Scan 12: K-8-2\n",
      "Scan 13: O-6-4\n",
      "Search success!\n",
      "O-6-4\n",
      "I-5-5\n",
      "D-3-5\n",
      "A-0-6\n",
      "Distance: 34\n"
     ]
    }
   ],
   "source": [
    "# Run\n",
    "ass(Node('A'), Node('O'))"
   ]
  }
 ],
 "metadata": {
  "kernelspec": {
   "display_name": "Python 3",
   "language": "python",
   "name": "python3"
  },
  "language_info": {
   "codemirror_mode": {
    "name": "ipython",
    "version": 3
   },
   "file_extension": ".py",
   "mimetype": "text/x-python",
   "name": "python",
   "nbconvert_exporter": "python",
   "pygments_lexer": "ipython3",
   "version": "3.11.3"
  },
  "orig_nbformat": 4,
  "vscode": {
   "interpreter": {
    "hash": "bb31923fe1462919371239128cb0b2695295dfc560fc452d1a3a2e251a4b53eb"
   }
  }
 },
 "nbformat": 4,
 "nbformat_minor": 2
}
