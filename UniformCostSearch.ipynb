{
 "cells": [
  {
   "attachments": {},
   "cell_type": "markdown",
   "metadata": {},
   "source": [
    "# UNIFORM COST SEARCH"
   ]
  },
  {
   "attachments": {},
   "cell_type": "markdown",
   "metadata": {},
   "source": [
    "## Question"
   ]
  },
  {
   "attachments": {},
   "cell_type": "markdown",
   "metadata": {},
   "source": [
    "```\n",
    "                        A\n",
    "    ____________________|________________________\n",
    "    |➋                ➊|                       |➌\n",
    "    B                   C                       D\n",
    "____|____           ____|________           ____|____\n",
    "|➎    ➍|           |➏        ➌|           |➋    ➍|\n",
    "E       F           G           H           I       J\n",
    "|   ____|____   ____|____   ____|____   ____|\n",
    "|➊ |➋  |➊  |➍ |➊    ➊|   |➋    ➍|   |➊\n",
    "|___K   L   M___|       |___N       O___|\n",
    "```"
   ]
  },
  {
   "attachments": {},
   "cell_type": "markdown",
   "metadata": {},
   "source": [
    "## Script"
   ]
  },
  {
   "attachments": {},
   "cell_type": "markdown",
   "metadata": {},
   "source": [
    "### Using"
   ]
  },
  {
   "cell_type": "code",
   "execution_count": 1,
   "metadata": {},
   "outputs": [],
   "source": [
    "from collections import defaultdict\n",
    "from queue import PriorityQueue"
   ]
  },
  {
   "attachments": {},
   "cell_type": "markdown",
   "metadata": {},
   "source": [
    "### Contract Fields"
   ]
  },
  {
   "cell_type": "code",
   "execution_count": 2,
   "metadata": {},
   "outputs": [],
   "source": [
    "data = defaultdict(list)\n",
    "data['A'] = ['B', 2, 'C', 1, 'D', 3]\n",
    "data['B'] = ['E', 5, 'F', 4]\n",
    "data['C'] = ['G', 6, 'H', 3]\n",
    "data['D'] = ['I', 2, 'J', 4]\n",
    "data['E'] = ['K', 1]\n",
    "data['F'] = ['K', 2, 'L', 1, 'M', 4]\n",
    "data['G'] = ['M', 1, 'N', 1]\n",
    "data['H'] = ['N', 2, 'O', 4]\n",
    "data['I'] = ['O', 1]"
   ]
  },
  {
   "cell_type": "code",
   "execution_count": 3,
   "metadata": {},
   "outputs": [],
   "source": [
    "class Node:\n",
    "    # Initialization\n",
    "    def __init__(self, name, par=None, g=0):\n",
    "        self.name = name\n",
    "        self.par = par\n",
    "        self.g = g\n",
    "\n",
    "    # Less than\n",
    "    def __lt__(self, other):\n",
    "        if other == None:\n",
    "            return False\n",
    "        return self.g < other.g\n",
    "\n",
    "    # Equal\n",
    "    def __eq__(self, other):\n",
    "        if other == None:\n",
    "            return False\n",
    "        return self.name == other.name\n",
    "\n",
    "    # Display\n",
    "    def display(self):\n",
    "        print(self.name, self.g)"
   ]
  },
  {
   "attachments": {},
   "cell_type": "markdown",
   "metadata": {},
   "source": [
    "### Contract Methods"
   ]
  },
  {
   "cell_type": "code",
   "execution_count": 4,
   "metadata": {},
   "outputs": [],
   "source": [
    "# Check in priority\n",
    "def ciPrty(tmplt, c):\n",
    "    if tmplt == None:\n",
    "        return False\n",
    "    return (tmplt in c.queue)"
   ]
  },
  {
   "cell_type": "code",
   "execution_count": 5,
   "metadata": {},
   "outputs": [],
   "source": [
    "# Get path\n",
    "def getPath(O):\n",
    "    O.display()\n",
    "    if O.par != None:\n",
    "        getPath(O.par)\n",
    "    else:\n",
    "        return"
   ]
  },
  {
   "cell_type": "code",
   "execution_count": 6,
   "metadata": {},
   "outputs": [],
   "source": [
    "# Uniform cost search\n",
    "def ucs(S=Node('A'), G=Node('B')):\n",
    "    count = 0\n",
    "    Open = PriorityQueue()\n",
    "    Close = PriorityQueue()\n",
    "    Open.put(S)\n",
    "    while True:\n",
    "        count += 1\n",
    "        # check if Open is empty\n",
    "        if Open.empty() == True:\n",
    "            print('Search failed!')\n",
    "            return\n",
    "        O = Open.get()\n",
    "        o_ame = O.name\n",
    "        o_g = O.g\n",
    "        Close.put(O)\n",
    "        print(f'Scan {count}: {o_ame} {o_g}')\n",
    "        # check if O is destination point\n",
    "        if O.__eq__(G):\n",
    "            print('Search success!')\n",
    "            getPath(O)\n",
    "            print(f'Distance: {o_g}')\n",
    "            return\n",
    "        i = 0\n",
    "        # find all subpoints of O that are not in Open and Close\n",
    "        while i < len(data[o_ame]):\n",
    "            tmplt = Node(name=data[o_ame][i], g=o_g + data[o_ame][i + 1])\n",
    "            tmplt.par = O\n",
    "            if not (ciPrty(tmplt, Open) and ciPrty(tmplt, Close)):\n",
    "                Open.put(tmplt)\n",
    "            i += 2"
   ]
  },
  {
   "cell_type": "code",
   "execution_count": 7,
   "metadata": {},
   "outputs": [
    {
     "name": "stdout",
     "output_type": "stream",
     "text": [
      "Scan 1: A 0\n",
      "Scan 2: C 1\n",
      "Scan 3: B 2\n",
      "Scan 4: D 3\n",
      "Scan 5: H 4\n",
      "Scan 6: I 5\n",
      "Scan 7: N 6\n",
      "Scan 8: O 6\n",
      "Search success!\n",
      "O 6\n",
      "I 5\n",
      "D 3\n",
      "A 0\n",
      "Distance: 6\n"
     ]
    }
   ],
   "source": [
    "# Run\n",
    "ucs(Node('A'), Node('O'))"
   ]
  }
 ],
 "metadata": {
  "kernelspec": {
   "display_name": "Python 3",
   "language": "python",
   "name": "python3"
  },
  "language_info": {
   "codemirror_mode": {
    "name": "ipython",
    "version": 3
   },
   "file_extension": ".py",
   "mimetype": "text/x-python",
   "name": "python",
   "nbconvert_exporter": "python",
   "pygments_lexer": "ipython3",
   "version": "3.11.1"
  },
  "orig_nbformat": 4,
  "vscode": {
   "interpreter": {
    "hash": "bb31923fe1462919371239128cb0b2695295dfc560fc452d1a3a2e251a4b53eb"
   }
  }
 },
 "nbformat": 4,
 "nbformat_minor": 2
}
