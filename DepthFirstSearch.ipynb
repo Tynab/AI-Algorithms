{
 "cells": [
  {
   "attachments": {},
   "cell_type": "markdown",
   "metadata": {},
   "source": [
    "# DEPTH-FIRST SEARCH"
   ]
  },
  {
   "attachments": {},
   "cell_type": "markdown",
   "metadata": {},
   "source": [
    "## Question"
   ]
  },
  {
   "attachments": {},
   "cell_type": "markdown",
   "metadata": {},
   "source": [
    "```\n",
    "A_____B_____E\n",
    "|     |\n",
    "|     |_____F_____K\n",
    "|           |\n",
    "|           |_____L\n",
    "|           |\n",
    "|           |_____M\n",
    "|\n",
    "|_____C_____G\n",
    "|     |\n",
    "|     |_____H\n",
    "|           |\n",
    "|           |_____N\n",
    "|           |_____O\n",
    "|\n",
    "|_____D_____I\n",
    "      |\n",
    "      |_____J\n",
    "```"
   ]
  },
  {
   "attachments": {},
   "cell_type": "markdown",
   "metadata": {},
   "source": [
    "## Script"
   ]
  },
  {
   "attachments": {},
   "cell_type": "markdown",
   "metadata": {},
   "source": [
    "### Using"
   ]
  },
  {
   "cell_type": "code",
   "execution_count": 1,
   "metadata": {},
   "outputs": [],
   "source": [
    "from collections import defaultdict"
   ]
  },
  {
   "attachments": {},
   "cell_type": "markdown",
   "metadata": {},
   "source": [
    "### Contract Fields"
   ]
  },
  {
   "cell_type": "code",
   "execution_count": 2,
   "metadata": {},
   "outputs": [],
   "source": [
    "class Node:\n",
    "    # Initialization\n",
    "    def __init__(self, name, par=None):\n",
    "        self.name = name\n",
    "        self.par = par\n",
    "\n",
    "    # Display\n",
    "    def display(self):\n",
    "        print(self.name)\n",
    "\n",
    "    # Weight\n",
    "    __lt__ = lambda self, other: self.w < other.w"
   ]
  },
  {
   "cell_type": "code",
   "execution_count": 3,
   "metadata": {},
   "outputs": [],
   "source": [
    "data = defaultdict(list)\n",
    "data['A'] = ['B', 'C', 'D']\n",
    "data['B'] = ['E', 'F']\n",
    "data['C'] = ['G', 'H']\n",
    "data['D'] = ['I', 'J']\n",
    "data['F'] = ['K', 'L', 'M']\n",
    "data['H'] = ['N', 'O']"
   ]
  },
  {
   "attachments": {},
   "cell_type": "markdown",
   "metadata": {},
   "source": [
    "### Contract Methods"
   ]
  },
  {
   "cell_type": "code",
   "execution_count": 4,
   "metadata": {},
   "outputs": [],
   "source": [
    "# Equal node\n",
    "equalNode = lambda O, G: O.name == G.name"
   ]
  },
  {
   "cell_type": "code",
   "execution_count": 5,
   "metadata": {},
   "outputs": [],
   "source": [
    "# Check in array\n",
    "def ciArr(tmplt, Open):\n",
    "    for x in Open:\n",
    "        if equalNode(x, tmplt):\n",
    "            return True\n",
    "    return False"
   ]
  },
  {
   "cell_type": "code",
   "execution_count": 6,
   "metadata": {},
   "outputs": [],
   "source": [
    "# Path\n",
    "def path(O):\n",
    "    O.display()\n",
    "    if O.par != None:\n",
    "        path(O.par)\n",
    "    else:\n",
    "        return"
   ]
  },
  {
   "cell_type": "code",
   "execution_count": 7,
   "metadata": {},
   "outputs": [],
   "source": [
    "# Depth First Search\n",
    "def dfs(S=Node('A'), G=Node('B')):\n",
    "    count = 0\n",
    "    Open = []\n",
    "    Close = []\n",
    "    Open.append(S)\n",
    "    while True:\n",
    "        count += 1\n",
    "        # check if Open is empty\n",
    "        if len(Open) == 0:\n",
    "            print('Tìm kiếm thất bại!')\n",
    "            return\n",
    "        O = Open.pop(0)\n",
    "        Close.append(O)\n",
    "        print(f'Scan {count}: {O.name}')\n",
    "        # check if O is destination point\n",
    "        if equalNode(O, G):\n",
    "            print('Tìm kiếm thành công: ')\n",
    "            path(O)\n",
    "            return\n",
    "        pos = 0\n",
    "        # find all subpoints of O that are not in A and B\n",
    "        for x in data[O.name]:\n",
    "            tmplt = Node(x)\n",
    "            tmplt.par = O\n",
    "            if not (ciArr(tmplt, Open) and ciArr(tmplt, Close)):\n",
    "                Open.insert(pos, tmplt)\n",
    "                pos += 1"
   ]
  },
  {
   "cell_type": "code",
   "execution_count": 8,
   "metadata": {},
   "outputs": [
    {
     "name": "stdout",
     "output_type": "stream",
     "text": [
      "Scan 1: A\n",
      "Scan 2: B\n",
      "Scan 3: E\n",
      "Scan 4: F\n",
      "Scan 5: K\n",
      "Scan 6: L\n",
      "Scan 7: M\n",
      "Scan 8: C\n",
      "Scan 9: G\n",
      "Scan 10: H\n",
      "Scan 11: N\n",
      "Scan 12: O\n",
      "Tìm kiếm thành công: \n",
      "O\n",
      "H\n",
      "C\n",
      "A\n"
     ]
    }
   ],
   "source": [
    "# Run\n",
    "dfs(Node('A'), Node('O'))"
   ]
  }
 ],
 "metadata": {
  "kernelspec": {
   "display_name": "Python 3",
   "language": "python",
   "name": "python3"
  },
  "language_info": {
   "codemirror_mode": {
    "name": "ipython",
    "version": 3
   },
   "file_extension": ".py",
   "mimetype": "text/x-python",
   "name": "python",
   "nbconvert_exporter": "python",
   "pygments_lexer": "ipython3",
   "version": "3.11.1"
  },
  "orig_nbformat": 4,
  "vscode": {
   "interpreter": {
    "hash": "bb31923fe1462919371239128cb0b2695295dfc560fc452d1a3a2e251a4b53eb"
   }
  }
 },
 "nbformat": 4,
 "nbformat_minor": 2
}
