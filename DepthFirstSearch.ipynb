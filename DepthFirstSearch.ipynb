{
 "cells": [
  {
   "attachments": {},
   "cell_type": "markdown",
   "metadata": {},
   "source": [
    "# DEPTH-FIRST SEARCH"
   ]
  },
  {
   "attachments": {},
   "cell_type": "markdown",
   "metadata": {},
   "source": [
    "## Question"
   ]
  },
  {
   "attachments": {},
   "cell_type": "markdown",
   "metadata": {},
   "source": [
    "```\n",
    "                A\n",
    "    ____________|____________\n",
    "    |           |           |\n",
    "    B           C           D\n",
    "____|____   ____|____   ____|____\n",
    "|       |   |       |   |       |\n",
    "E       F   G       H   I       J\n",
    "    ____|____   ____|____\n",
    "    |   |   |   |       |\n",
    "    K   L   M   N       O\n",
    "```"
   ]
  },
  {
   "attachments": {},
   "cell_type": "markdown",
   "metadata": {},
   "source": [
    "## Script"
   ]
  },
  {
   "attachments": {},
   "cell_type": "markdown",
   "metadata": {},
   "source": [
    "### Using"
   ]
  },
  {
   "cell_type": "code",
   "execution_count": 1,
   "metadata": {},
   "outputs": [],
   "source": [
    "from collections import defaultdict"
   ]
  },
  {
   "attachments": {},
   "cell_type": "markdown",
   "metadata": {},
   "source": [
    "### Contract Fields"
   ]
  },
  {
   "cell_type": "code",
   "execution_count": 2,
   "metadata": {},
   "outputs": [],
   "source": [
    "class Node:\n",
    "    # Initialization\n",
    "    def __init__(self, name, p=None):\n",
    "        self.name = name\n",
    "        self.p = p\n",
    "\n",
    "    # Euqal\n",
    "    def __eq__(self, other):\n",
    "        if (other == None):\n",
    "            return False\n",
    "        return self.name == other.name\n",
    "\n",
    "    # Display\n",
    "    def display(self):\n",
    "        print(self.name)"
   ]
  },
  {
   "cell_type": "code",
   "execution_count": 3,
   "metadata": {},
   "outputs": [],
   "source": [
    "data = defaultdict(list)\n",
    "data['A'] = ['B', 'C', 'D']\n",
    "data['B'] = ['E', 'F']\n",
    "data['C'] = ['G', 'H']\n",
    "data['D'] = ['I', 'J']\n",
    "data['F'] = ['K', 'L', 'M']\n",
    "data['H'] = ['N', 'O']"
   ]
  },
  {
   "attachments": {},
   "cell_type": "markdown",
   "metadata": {},
   "source": [
    "### Contract Methods"
   ]
  },
  {
   "cell_type": "code",
   "execution_count": 4,
   "metadata": {},
   "outputs": [],
   "source": [
    "# Check in array\n",
    "def checkin_array(temp, Open):\n",
    "    for x in Open:\n",
    "        if x.__eq__(temp):\n",
    "            return True\n",
    "    return False"
   ]
  },
  {
   "cell_type": "code",
   "execution_count": 5,
   "metadata": {},
   "outputs": [],
   "source": [
    "# Get path\n",
    "def get_path(O):\n",
    "    O.display()\n",
    "    if O.p != None:\n",
    "        get_path(O.p)\n",
    "    else:\n",
    "        return"
   ]
  },
  {
   "cell_type": "code",
   "execution_count": 6,
   "metadata": {},
   "outputs": [],
   "source": [
    "# Depth First Search\n",
    "def dfs(S=Node('A'), G=Node('B')):\n",
    "    count = 0\n",
    "    Open = []\n",
    "    Close = []\n",
    "    Open.append(S)\n",
    "    while True:\n",
    "        count += 1\n",
    "        # check if Open is empty\n",
    "        if len(Open) == 0:\n",
    "            print('Search failed!')\n",
    "            return\n",
    "        O = Open.pop(0)\n",
    "        Close.append(O)\n",
    "        print(f'Scan {count}: {O.name}')\n",
    "        # check if O is destination point\n",
    "        if O.__eq__(G):\n",
    "            print('Search success!')\n",
    "            get_path(O)\n",
    "            return\n",
    "        i = 0\n",
    "        # find all subpoints of O that are not in Open and Close\n",
    "        for x in data[O.name]:\n",
    "            temp = Node(x)\n",
    "            temp.p = O\n",
    "            if not (checkin_array(temp, Open) and checkin_array(temp, Close)):\n",
    "                Open.insert(i, temp)\n",
    "                i += 1"
   ]
  },
  {
   "cell_type": "code",
   "execution_count": 7,
   "metadata": {},
   "outputs": [
    {
     "name": "stdout",
     "output_type": "stream",
     "text": [
      "Scan 1: A\n",
      "Scan 2: B\n",
      "Scan 3: E\n",
      "Scan 4: F\n",
      "Scan 5: K\n",
      "Scan 6: L\n",
      "Scan 7: M\n",
      "Scan 8: C\n",
      "Scan 9: G\n",
      "Scan 10: H\n",
      "Scan 11: N\n",
      "Scan 12: O\n",
      "Search success!\n",
      "O\n",
      "H\n",
      "C\n",
      "A\n"
     ]
    }
   ],
   "source": [
    "# Run\n",
    "dfs(Node('A'), Node('O'))"
   ]
  }
 ],
 "metadata": {
  "kernelspec": {
   "display_name": "Python 3",
   "language": "python",
   "name": "python3"
  },
  "language_info": {
   "codemirror_mode": {
    "name": "ipython",
    "version": 3
   },
   "file_extension": ".py",
   "mimetype": "text/x-python",
   "name": "python",
   "nbconvert_exporter": "python",
   "pygments_lexer": "ipython3",
   "version": "3.10.9"
  },
  "orig_nbformat": 4,
  "vscode": {
   "interpreter": {
    "hash": "bb31923fe1462919371239128cb0b2695295dfc560fc452d1a3a2e251a4b53eb"
   }
  }
 },
 "nbformat": 4,
 "nbformat_minor": 2
}
