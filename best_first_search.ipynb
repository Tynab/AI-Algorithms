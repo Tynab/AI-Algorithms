{
 "cells": [
  {
   "attachments": {},
   "cell_type": "markdown",
   "metadata": {},
   "source": [
    "# BEST FIRST SEARCH"
   ]
  },
  {
   "attachments": {},
   "cell_type": "markdown",
   "metadata": {},
   "source": [
    "## Question"
   ]
  },
  {
   "attachments": {},
   "cell_type": "markdown",
   "metadata": {},
   "source": [
    "```\n",
    "                        A➏\n",
    "    ____________________|________________________\n",
    "    |                   |                       |\n",
    "    B➌                 ➍C                      D➎\n",
    "____|____           ____|________           ____|____\n",
    "|       |           |           |           |       |\n",
    "E➌    ➊F           G➏        ➋H           I➎    ➍J\n",
    "|   ____|____   ____|____   ____|____   ____|\n",
    "|   |   |   |   |       |   |       |   |\n",
    "|___K➋  L ➍M___|       |___N➊    ➍O___|\n",
    "```"
   ]
  },
  {
   "attachments": {},
   "cell_type": "markdown",
   "metadata": {},
   "source": [
    "## Script"
   ]
  },
  {
   "attachments": {},
   "cell_type": "markdown",
   "metadata": {},
   "source": [
    "### Using"
   ]
  },
  {
   "cell_type": "code",
   "execution_count": 15,
   "metadata": {},
   "outputs": [],
   "source": [
    "from collections import defaultdict\n",
    "from queue import PriorityQueue"
   ]
  },
  {
   "attachments": {},
   "cell_type": "markdown",
   "metadata": {},
   "source": [
    "### Contract Fields"
   ]
  },
  {
   "cell_type": "code",
   "execution_count": 16,
   "metadata": {},
   "outputs": [],
   "source": [
    "data = defaultdict(list)\n",
    "data['A'] = ['B', 'C', 'D', 6]\n",
    "data['B'] = ['E', 'F', 3]\n",
    "data['C'] = ['G', 'H', 4]\n",
    "data['D'] = ['I', 'J', 5]\n",
    "data['E'] = ['K', 3]\n",
    "data['F'] = ['K', 'L', 'M', 1]\n",
    "data['G'] = ['M', 'N', 6]\n",
    "data['H'] = ['N', 'O', 2]\n",
    "data['I'] = ['O', 5]\n",
    "data['J'] = [4]\n",
    "data['K'] = [2]\n",
    "data['L'] = [0]\n",
    "data['M'] = [4]\n",
    "data['N'] = [1]\n",
    "data['O'] = [4]"
   ]
  },
  {
   "cell_type": "code",
   "execution_count": 17,
   "metadata": {},
   "outputs": [],
   "source": [
    "class Node:\n",
    "    # Initialization\n",
    "    def __init__(self, name, p=None, h=0):\n",
    "        self.name = name\n",
    "        self.p = p\n",
    "        self.h = h\n",
    "\n",
    "    # Less than\n",
    "    def __lt__(self, other):\n",
    "        if other == None:\n",
    "            return False\n",
    "        return self.h < other.h\n",
    "\n",
    "    # Equal\n",
    "    def __eq__(self, other):\n",
    "        if other == None:\n",
    "            return False\n",
    "        return self.name == other.name\n",
    "\n",
    "    # Display\n",
    "    def display(self):\n",
    "        print(f'{self.name}-{self.h}')"
   ]
  },
  {
   "attachments": {},
   "cell_type": "markdown",
   "metadata": {},
   "source": [
    "### Contract Methods"
   ]
  },
  {
   "cell_type": "code",
   "execution_count": 18,
   "metadata": {},
   "outputs": [],
   "source": [
    "# Check in priority\n",
    "def checkin_priority(temp, c):\n",
    "    if temp == None:\n",
    "        return False\n",
    "    return (temp in c.queue)"
   ]
  },
  {
   "cell_type": "code",
   "execution_count": 19,
   "metadata": {},
   "outputs": [],
   "source": [
    "# Get path\n",
    "def get_path(O, distance):\n",
    "    O.display()\n",
    "    distance += O.h\n",
    "    if O.p != None:\n",
    "        get_path(O.p, distance)\n",
    "    else:\n",
    "        print(f'Distance: {distance}')\n",
    "        return"
   ]
  },
  {
   "cell_type": "code",
   "execution_count": 20,
   "metadata": {},
   "outputs": [],
   "source": [
    "# Best first search\n",
    "def bfs(S=Node('A'), G=Node('B')):\n",
    "    count = 0\n",
    "    Open = PriorityQueue()\n",
    "    Close = PriorityQueue()\n",
    "    S.h = data[S.name][-1]\n",
    "    Open.put(S)\n",
    "    while True:\n",
    "        count += 1\n",
    "        # check if Open is empty\n",
    "        if Open.empty():\n",
    "            print('Search failed!')\n",
    "            return\n",
    "        O = Open.get()\n",
    "        Close.put(O)\n",
    "        print(f'Scan {count}: {O.name}-{O.h}')\n",
    "        # check if O is destination point\n",
    "        if O.__eq__(G):\n",
    "            print('Search success!')\n",
    "            get_path(O, 0)\n",
    "            return\n",
    "        i = 0\n",
    "        # find all subpoints of O that are not in Open and Close\n",
    "        while i < len(data[O.name]) - 1:\n",
    "            name = data[O.name][i]\n",
    "            temp = Node(name=name, h=data[name][-1])\n",
    "            temp.p = O\n",
    "            if not (checkin_priority(temp, Open) and checkin_priority(temp, Close)):\n",
    "                Open.put(temp)\n",
    "            i += 1"
   ]
  },
  {
   "cell_type": "code",
   "execution_count": 21,
   "metadata": {},
   "outputs": [
    {
     "name": "stdout",
     "output_type": "stream",
     "text": [
      "Scan 1: A-6\n",
      "Scan 2: B-3\n",
      "Scan 3: F-1\n",
      "Scan 4: L-0\n",
      "Scan 5: K-2\n",
      "Scan 6: E-3\n",
      "Scan 7: K-2\n",
      "Scan 8: C-4\n",
      "Scan 9: H-2\n",
      "Scan 10: N-1\n",
      "Search success!\n",
      "N-1\n",
      "H-2\n",
      "C-4\n",
      "A-6\n",
      "Distance: 13\n"
     ]
    }
   ],
   "source": [
    "# Run\n",
    "bfs(Node('A'), Node('N'))"
   ]
  }
 ],
 "metadata": {
  "kernelspec": {
   "display_name": "Python 3",
   "language": "python",
   "name": "python3"
  },
  "language_info": {
   "codemirror_mode": {
    "name": "ipython",
    "version": 3
   },
   "file_extension": ".py",
   "mimetype": "text/x-python",
   "name": "python",
   "nbconvert_exporter": "python",
   "pygments_lexer": "ipython3",
   "version": "3.11.3"
  },
  "orig_nbformat": 4,
  "vscode": {
   "interpreter": {
    "hash": "bb31923fe1462919371239128cb0b2695295dfc560fc452d1a3a2e251a4b53eb"
   }
  }
 },
 "nbformat": 4,
 "nbformat_minor": 2
}
